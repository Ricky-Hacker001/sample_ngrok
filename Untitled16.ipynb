{
  "cells": [
    {
      "cell_type": "code",
      "execution_count": null,
      "metadata": {
        "colab": {
          "base_uri": "https://localhost:8080/"
        },
        "id": "m_xcbi5ksoNk",
        "outputId": "112cdc6b-ccd0-4333-d4f2-8da975069183"
      },
      "outputs": [
        {
          "name": "stdout",
          "output_type": "stream",
          "text": [
            "Requirement already satisfied: flask in /usr/local/lib/python3.12/dist-packages (3.1.2)\n",
            "Collecting flask-cors\n",
            "  Downloading flask_cors-6.0.1-py3-none-any.whl.metadata (5.3 kB)\n",
            "Collecting pyngrok\n",
            "  Downloading pyngrok-7.3.0-py3-none-any.whl.metadata (8.1 kB)\n",
            "Requirement already satisfied: blinker>=1.9.0 in /usr/local/lib/python3.12/dist-packages (from flask) (1.9.0)\n",
            "Requirement already satisfied: click>=8.1.3 in /usr/local/lib/python3.12/dist-packages (from flask) (8.2.1)\n",
            "Requirement already satisfied: itsdangerous>=2.2.0 in /usr/local/lib/python3.12/dist-packages (from flask) (2.2.0)\n",
            "Requirement already satisfied: jinja2>=3.1.2 in /usr/local/lib/python3.12/dist-packages (from flask) (3.1.6)\n",
            "Requirement already satisfied: markupsafe>=2.1.1 in /usr/local/lib/python3.12/dist-packages (from flask) (3.0.2)\n",
            "Requirement already satisfied: werkzeug>=3.1.0 in /usr/local/lib/python3.12/dist-packages (from flask) (3.1.3)\n",
            "Requirement already satisfied: PyYAML>=5.1 in /usr/local/lib/python3.12/dist-packages (from pyngrok) (6.0.2)\n",
            "Downloading flask_cors-6.0.1-py3-none-any.whl (13 kB)\n",
            "Downloading pyngrok-7.3.0-py3-none-any.whl (25 kB)\n",
            "Installing collected packages: pyngrok, flask-cors\n",
            "Successfully installed flask-cors-6.0.1 pyngrok-7.3.0\n"
          ]
        }
      ],
      "source": [
        "!pip install flask flask-cors pyngrok"
      ]
    },
    {
      "cell_type": "code",
      "execution_count": null,
      "metadata": {
        "colab": {
          "base_uri": "https://localhost:8080/"
        },
        "id": "I1PHy13Bqgxx",
        "outputId": "8e651163-27b4-4a2a-d4e8-ea95f7297878"
      },
      "outputs": [
        {
          "name": "stdout",
          "output_type": "stream",
          "text": [
            "🚀 Backend is live at: NgrokTunnel: \"https://58f639e8c25f.ngrok-free.app\" -> \"http://localhost:5000\"\n"
          ]
        }
      ],
      "source": [
        "import threading\n",
        "from flask import Flask, jsonify, request\n",
        "from flask_cors import CORS\n",
        "from pyngrok import ngrok, conf\n",
        "import json\n",
        "\n",
        "# --- IMPORTANT: PASTE YOUR NGROK AUTHTOKEN HERE ---\n",
        "conf.get_default().auth_token = \"your auth token\"\n",
        "\n",
        "app = Flask(__name__)\n",
        "CORS(app)\n",
        "\n",
        "# In-memory \"database\" to store user data. This will be reset on each run.\n",
        "users = {} # Example: {\"username\": \"password123\"}\n",
        "\n",
        "# --- API Endpoints ---\n",
        "\n",
        "@app.route(\"/\")\n",
        "def index():\n",
        "    return \"Colab Backend is Alive!\"\n",
        "\n",
        "@app.route(\"/api/signup\", methods=['POST'])\n",
        "def signup():\n",
        "    data = request.get_json()\n",
        "    username = data.get('username')\n",
        "    password = data.get('password')\n",
        "\n",
        "    if not username or not password:\n",
        "        return jsonify({\"status\": \"error\", \"message\": \"Username and password are required\"}), 400\n",
        "\n",
        "    if username in users:\n",
        "        return jsonify({\"status\": \"error\", \"message\": \"Username already exists\"}), 409\n",
        "\n",
        "    # 🛑 WARNING: Storing passwords in plain text is extremely insecure!\n",
        "    users[username] = password\n",
        "    print(\"Updated users:\", users) # For debugging in Colab\n",
        "    return jsonify({\"status\": \"success\", \"message\": \"User created successfully\"}), 201\n",
        "\n",
        "\n",
        "@app.route(\"/api/login\", methods=['POST'])\n",
        "def login():\n",
        "    data = request.get_json()\n",
        "    username = data.get('username')\n",
        "    password = data.get('password')\n",
        "\n",
        "    if username in users and users[username] == password:\n",
        "        # In a real app, you'd generate a secure JWT (JSON Web Token) here.\n",
        "        # For this demo, we'll use the username as a simple \"token\".\n",
        "        return jsonify({\"status\": \"success\", \"message\": \"Login successful\", \"token\": username}), 200\n",
        "    else:\n",
        "        return jsonify({\"status\": \"error\", \"message\": \"Invalid credentials\"}), 401\n",
        "\n",
        "\n",
        "@app.route(\"/api/dashboard\", methods=['GET'])\n",
        "def dashboard():\n",
        "    # This is our \"protected\" route.\n",
        "    auth_header = request.headers.get('Authorization')\n",
        "    if not auth_header or not auth_header.startswith('Bearer '):\n",
        "        return jsonify({\"status\": \"error\", \"message\": \"Authorization header missing or invalid\"}), 403\n",
        "\n",
        "    token = auth_header.split(\" \")[1]\n",
        "\n",
        "    # Check if the token (username) is a valid user.\n",
        "    if token in users:\n",
        "        # Return some user-specific data.\n",
        "        return jsonify({\n",
        "            \"message\": f\"Welcome to your dashboard, {token}!\",\n",
        "            \"userData\": f\"Your lucky number today is {len(token) * 7}.\"\n",
        "        }), 200\n",
        "    else:\n",
        "        return jsonify({\"status\": \"error\", \"message\": \"Invalid token\"}), 403\n",
        "\n",
        "# --- Boilerplate to run Flask and ngrok ---\n",
        "\n",
        "def run_app():\n",
        "    app.run(port=5000)\n",
        "\n",
        "public_url = ngrok.connect(5000)\n",
        "print(f\"🚀 Backend is live at: {public_url}\")\n",
        "\n",
        "flask_thread = threading.Thread(target=run_app)\n",
        "flask_thread.start()"
      ]
    },
    {
      "cell_type": "code",
      "execution_count": null,
      "metadata": {
        "id": "vtK_Vd4hto5z"
      },
      "outputs": [],
      "source": []
    }
  ],
  "metadata": {
    "colab": {
      "provenance": []
    },
    "kernelspec": {
      "display_name": "Python 3",
      "name": "python3"
    },
    "language_info": {
      "name": "python"
    }
  },
  "nbformat": 4,
  "nbformat_minor": 0
}
